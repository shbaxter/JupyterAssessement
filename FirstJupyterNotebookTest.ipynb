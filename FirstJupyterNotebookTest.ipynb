{
 "cells": [
  {
   "cell_type": "markdown",
   "id": "82d3d3ec",
   "metadata": {},
   "source": [
    "# Data Science Tools and Ecosystem"
   ]
  },
  {
   "cell_type": "markdown",
   "id": "86e971bf",
   "metadata": {},
   "source": [
    "In this notebook, Data Science Tools and Ecosystems are summarised"
   ]
  },
  {
   "cell_type": "markdown",
   "id": "605f320a",
   "metadata": {},
   "source": [
    "Some of the popular languages that Data Scientists use are:\n",
    "1. Python\n",
    "2. R\n",
    "3. SQL"
   ]
  },
  {
   "cell_type": "markdown",
   "id": "f9e745cd",
   "metadata": {},
   "source": [
    "Some of the commonly used libraries used by Data Scientists include:\n",
    "1. NumPy\n",
    "2. TensorFlow\n",
    "3. PyTorch"
   ]
  },
  {
   "cell_type": "markdown",
   "id": "a280bd96",
   "metadata": {},
   "source": [
    "\n",
    "|Data Science Tools|\n",
    "|------------------|\n",
    "| TensorFlow       |\n",
    "| R Studio         |\n",
    "| Apache Spark     |  "
   ]
  },
  {
   "cell_type": "markdown",
   "id": "8c73d29b",
   "metadata": {},
   "source": [
    "### Below are a few examples of evaluating arithmetic expressions in Python"
   ]
  },
  {
   "cell_type": "code",
   "execution_count": 3,
   "id": "40ea9948",
   "metadata": {},
   "outputs": [
    {
     "data": {
      "text/plain": [
       "17"
      ]
     },
     "execution_count": 3,
     "metadata": {},
     "output_type": "execute_result"
    }
   ],
   "source": [
    "# This is a simple arithmetic expression to multiply then add integers\n",
    "(3*4)+5"
   ]
  },
  {
   "cell_type": "code",
   "execution_count": 4,
   "id": "6fab9206",
   "metadata": {},
   "outputs": [
    {
     "data": {
      "text/plain": [
       "3.3333333333333335"
      ]
     },
     "execution_count": 4,
     "metadata": {},
     "output_type": "execute_result"
    }
   ],
   "source": [
    "# This will convert 200 minutes to hours by dividing by 60\n",
    "200/60"
   ]
  },
  {
   "cell_type": "markdown",
   "id": "4a63e918",
   "metadata": {},
   "source": [
    "**Objectives**\n",
    "1. List popular data science languages\n",
    "2. List commonly used data science libraries\n",
    "3. Create a table containing popular data science tools"
   ]
  },
  {
   "cell_type": "markdown",
   "id": "4405c2a0",
   "metadata": {},
   "source": [
    "## Author"
   ]
  },
  {
   "cell_type": "markdown",
   "id": "18ad61b6",
   "metadata": {},
   "source": [
    "Samuel Baxter"
   ]
  },
  {
   "cell_type": "code",
   "execution_count": null,
   "id": "ac4f1dc9",
   "metadata": {},
   "outputs": [],
   "source": []
  }
 ],
 "metadata": {
  "kernelspec": {
   "display_name": "Python 3 (ipykernel)",
   "language": "python",
   "name": "python3"
  },
  "language_info": {
   "codemirror_mode": {
    "name": "ipython",
    "version": 3
   },
   "file_extension": ".py",
   "mimetype": "text/x-python",
   "name": "python",
   "nbconvert_exporter": "python",
   "pygments_lexer": "ipython3",
   "version": "3.10.11"
  }
 },
 "nbformat": 4,
 "nbformat_minor": 5
}
